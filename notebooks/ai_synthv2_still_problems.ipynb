{
  "cells": [
    {
      "cell_type": "code",
      "execution_count": null,
      "metadata": {
        "id": "pgUWaBpdnzeT"
      },
      "outputs": [],
      "source": [
        "batch_size=2\n",
        "\n",
        "spectrogran_size=[2,1,256,256]\n",
        "video_size=[2,int(30*5),1,16,256]"
      ]
    },
    {
      "cell_type": "code",
      "source": [
        "from google.colab import drive\n",
        "drive.mount('/content/drive')\n",
        "import os\n",
        "os.chdir(\"/content/drive/My Drive/02501_ADLCV_project\")"
      ],
      "metadata": {
        "colab": {
          "base_uri": "https://localhost:8080/"
        },
        "id": "dMZsoDjK32PF",
        "outputId": "e1f46c85-2ece-4000-8926-65d7374b9d11"
      },
      "execution_count": 2,
      "outputs": [
        {
          "output_type": "stream",
          "name": "stdout",
          "text": [
            "Mounted at /content/drive\n"
          ]
        }
      ]
    },
    {
      "cell_type": "code",
      "source": [
        "pip install einops"
      ],
      "metadata": {
        "colab": {
          "base_uri": "https://localhost:8080/"
        },
        "id": "OLoOwSoA39am",
        "outputId": "5a7f236c-6245-4f18-cbd3-808ffc419b17"
      },
      "execution_count": 1,
      "outputs": [
        {
          "output_type": "stream",
          "name": "stdout",
          "text": [
            "Collecting einops\n",
            "  Downloading einops-0.7.0-py3-none-any.whl (44 kB)\n",
            "\u001b[?25l     \u001b[90m━━━━━━━━━━━━━━━━━━━━━━━━━━━━━━━━━━━━━━━━\u001b[0m \u001b[32m0.0/44.6 kB\u001b[0m \u001b[31m?\u001b[0m eta \u001b[36m-:--:--\u001b[0m\r\u001b[2K     \u001b[90m━━━━━━━━━━━━━━━━━━━━━━━━━━━━━━━━━━━━━━━━\u001b[0m \u001b[32m44.6/44.6 kB\u001b[0m \u001b[31m1.4 MB/s\u001b[0m eta \u001b[36m0:00:00\u001b[0m\n",
            "\u001b[?25hInstalling collected packages: einops\n",
            "Successfully installed einops-0.7.0\n"
          ]
        }
      ]
    },
    {
      "cell_type": "markdown",
      "metadata": {
        "id": "A9I1DpJ43UVi"
      },
      "source": [
        "# Define Model"
      ]
    },
    {
      "cell_type": "code",
      "execution_count": 3,
      "metadata": {
        "id": "8v2VoT7yl2X5",
        "colab": {
          "base_uri": "https://localhost:8080/",
          "height": 588,
          "referenced_widgets": [
            "ec16445d4f6e407aa66e50aaaa5dac59",
            "70521a8f964748788236e8bc6a6d1a66",
            "f0c2edb6118b40e599da8f9fba7c2fc7",
            "3bdf4df6598e4a65a4624712c7cf7de1",
            "1df18873866d41db953de9393b078a70",
            "6667d0f47f0c4811ba46a0e3512593bc",
            "06afb20f7bb34e54a5430d552b5294fe",
            "bb0e66e1dae84f3cacf71e8aa7bac873",
            "a3bf2902e8544e53ac7734e8b0ed6071",
            "38b97057e90044b2bbb268cb2453870b",
            "97a05342af21459594474f0d3b8ccca6",
            "f6f602aee68e4c3499c631d5bcadbdfc",
            "db7eee6693e84fe5b30933c9b8772b00",
            "abf9e83274214f2586122f3a56ed5565",
            "90ae5382953d4425b6428cf10fc7415c",
            "ba2514fac93d4baa964118589a12eeb2",
            "5f22f5c2e7e84cbf8463bdb0d94560b6",
            "0cb4b12dd0ea4308a805b462951462c1",
            "0231bb1455324a86a409995bec1fae58",
            "d11820014ae5450e87011a9bd54f43ef",
            "8e9ede5e5669493698f8a6ecab4ebaab",
            "884e9d717c6a469ca73dc7033b08e1fc"
          ]
        },
        "outputId": "4fbef332-7d41-423b-c47a-bc04748cdfc3"
      },
      "outputs": [
        {
          "output_type": "stream",
          "name": "stderr",
          "text": [
            "/usr/local/lib/python3.10/dist-packages/huggingface_hub/utils/_token.py:88: UserWarning: \n",
            "The secret `HF_TOKEN` does not exist in your Colab secrets.\n",
            "To authenticate with the Hugging Face Hub, create a token in your settings tab (https://huggingface.co/settings/tokens), set it as secret in your Google Colab and restart your session.\n",
            "You will be able to reuse this secret in all of your notebooks.\n",
            "Please note that authentication is recommended but still optional to access public models or datasets.\n",
            "  warnings.warn(\n"
          ]
        },
        {
          "output_type": "display_data",
          "data": {
            "text/plain": [
              "config.json:   0%|          | 0.00/18.6k [00:00<?, ?B/s]"
            ],
            "application/vnd.jupyter.widget-view+json": {
              "version_major": 2,
              "version_minor": 0,
              "model_id": "ec16445d4f6e407aa66e50aaaa5dac59"
            }
          },
          "metadata": {}
        },
        {
          "output_type": "display_data",
          "data": {
            "text/plain": [
              "pytorch_model.bin:   0%|          | 0.00/356M [00:00<?, ?B/s]"
            ],
            "application/vnd.jupyter.widget-view+json": {
              "version_major": 2,
              "version_minor": 0,
              "model_id": "f6f602aee68e4c3499c631d5bcadbdfc"
            }
          },
          "metadata": {}
        },
        {
          "output_type": "error",
          "ename": "RuntimeError",
          "evalue": "Found no NVIDIA driver on your system. Please check that you have an NVIDIA GPU and installed a driver from http://www.nvidia.com/Download/index.aspx",
          "traceback": [
            "\u001b[0;31m---------------------------------------------------------------------------\u001b[0m",
            "\u001b[0;31mRuntimeError\u001b[0m                              Traceback (most recent call last)",
            "\u001b[0;32m<ipython-input-3-293059274baf>\u001b[0m in \u001b[0;36m<cell line: 155>\u001b[0;34m()\u001b[0m\n\u001b[1;32m    188\u001b[0m     \u001b[0mconfig_vocoder\u001b[0m \u001b[0;34m=\u001b[0m \u001b[0mSpeechT5HifiGanConfig\u001b[0m\u001b[0;34m(\u001b[0m\u001b[0;34m)\u001b[0m\u001b[0;34m\u001b[0m\u001b[0;34m\u001b[0m\u001b[0m\n\u001b[1;32m    189\u001b[0m     \u001b[0mvocoder\u001b[0m \u001b[0;34m=\u001b[0m \u001b[0mSpeechT5HifiGan\u001b[0m\u001b[0;34m(\u001b[0m\u001b[0mconfig_vocoder\u001b[0m\u001b[0;34m)\u001b[0m\u001b[0;34m\u001b[0m\u001b[0;34m\u001b[0m\u001b[0m\n\u001b[0;32m--> 190\u001b[0;31m     \u001b[0mmodel\u001b[0m \u001b[0;34m=\u001b[0m \u001b[0mAiSynthModel\u001b[0m\u001b[0;34m(\u001b[0m\u001b[0mencoder\u001b[0m\u001b[0;34m,\u001b[0m \u001b[0mdecoder\u001b[0m\u001b[0;34m,\u001b[0m \u001b[0mdecoder_postnet\u001b[0m\u001b[0;34m,\u001b[0m \u001b[0mvocoder\u001b[0m\u001b[0;34m,\u001b[0m \u001b[0mimage_size\u001b[0m\u001b[0;34m=\u001b[0m\u001b[0;34m(\u001b[0m\u001b[0;36m224\u001b[0m\u001b[0;34m,\u001b[0m\u001b[0;36m224\u001b[0m\u001b[0;34m)\u001b[0m\u001b[0;34m,\u001b[0m\u001b[0mtubelet_size\u001b[0m\u001b[0;34m=\u001b[0m\u001b[0;34m[\u001b[0m\u001b[0;36m2\u001b[0m\u001b[0;34m,\u001b[0m\u001b[0;36m8\u001b[0m\u001b[0;34m,\u001b[0m\u001b[0;36m32\u001b[0m\u001b[0;34m]\u001b[0m\u001b[0;34m,\u001b[0m \u001b[0mnum_frames\u001b[0m \u001b[0;34m=\u001b[0m \u001b[0;36m64\u001b[0m\u001b[0;34m,\u001b[0m \u001b[0mdim\u001b[0m \u001b[0;34m=\u001b[0m \u001b[0;36m512\u001b[0m\u001b[0;34m,\u001b[0m \u001b[0mnum_layers\u001b[0m\u001b[0;34m=\u001b[0m\u001b[0;36m4\u001b[0m\u001b[0;34m)\u001b[0m\u001b[0;34m.\u001b[0m\u001b[0mcuda\u001b[0m\u001b[0;34m(\u001b[0m\u001b[0;34m)\u001b[0m\u001b[0;34m\u001b[0m\u001b[0;34m\u001b[0m\u001b[0m\n\u001b[0m\u001b[1;32m    191\u001b[0m     \u001b[0mmodel\u001b[0m\u001b[0;34m.\u001b[0m\u001b[0meval\u001b[0m\u001b[0;34m(\u001b[0m\u001b[0;34m)\u001b[0m\u001b[0;34m\u001b[0m\u001b[0;34m\u001b[0m\u001b[0m\n\u001b[1;32m    192\u001b[0m \u001b[0;34m\u001b[0m\u001b[0m\n",
            "\u001b[0;32m/usr/local/lib/python3.10/dist-packages/torch/nn/modules/module.py\u001b[0m in \u001b[0;36mcuda\u001b[0;34m(self, device)\u001b[0m\n\u001b[1;32m    909\u001b[0m             \u001b[0mModule\u001b[0m\u001b[0;34m:\u001b[0m \u001b[0mself\u001b[0m\u001b[0;34m\u001b[0m\u001b[0;34m\u001b[0m\u001b[0m\n\u001b[1;32m    910\u001b[0m         \"\"\"\n\u001b[0;32m--> 911\u001b[0;31m         \u001b[0;32mreturn\u001b[0m \u001b[0mself\u001b[0m\u001b[0;34m.\u001b[0m\u001b[0m_apply\u001b[0m\u001b[0;34m(\u001b[0m\u001b[0;32mlambda\u001b[0m \u001b[0mt\u001b[0m\u001b[0;34m:\u001b[0m \u001b[0mt\u001b[0m\u001b[0;34m.\u001b[0m\u001b[0mcuda\u001b[0m\u001b[0;34m(\u001b[0m\u001b[0mdevice\u001b[0m\u001b[0;34m)\u001b[0m\u001b[0;34m)\u001b[0m\u001b[0;34m\u001b[0m\u001b[0;34m\u001b[0m\u001b[0m\n\u001b[0m\u001b[1;32m    912\u001b[0m \u001b[0;34m\u001b[0m\u001b[0m\n\u001b[1;32m    913\u001b[0m     \u001b[0;32mdef\u001b[0m \u001b[0mipu\u001b[0m\u001b[0;34m(\u001b[0m\u001b[0mself\u001b[0m\u001b[0;34m:\u001b[0m \u001b[0mT\u001b[0m\u001b[0;34m,\u001b[0m \u001b[0mdevice\u001b[0m\u001b[0;34m:\u001b[0m \u001b[0mOptional\u001b[0m\u001b[0;34m[\u001b[0m\u001b[0mUnion\u001b[0m\u001b[0;34m[\u001b[0m\u001b[0mint\u001b[0m\u001b[0;34m,\u001b[0m \u001b[0mdevice\u001b[0m\u001b[0;34m]\u001b[0m\u001b[0;34m]\u001b[0m \u001b[0;34m=\u001b[0m \u001b[0;32mNone\u001b[0m\u001b[0;34m)\u001b[0m \u001b[0;34m->\u001b[0m \u001b[0mT\u001b[0m\u001b[0;34m:\u001b[0m\u001b[0;34m\u001b[0m\u001b[0;34m\u001b[0m\u001b[0m\n",
            "\u001b[0;32m/usr/local/lib/python3.10/dist-packages/torch/nn/modules/module.py\u001b[0m in \u001b[0;36m_apply\u001b[0;34m(self, fn, recurse)\u001b[0m\n\u001b[1;32m    800\u001b[0m         \u001b[0;32mif\u001b[0m \u001b[0mrecurse\u001b[0m\u001b[0;34m:\u001b[0m\u001b[0;34m\u001b[0m\u001b[0;34m\u001b[0m\u001b[0m\n\u001b[1;32m    801\u001b[0m             \u001b[0;32mfor\u001b[0m \u001b[0mmodule\u001b[0m \u001b[0;32min\u001b[0m \u001b[0mself\u001b[0m\u001b[0;34m.\u001b[0m\u001b[0mchildren\u001b[0m\u001b[0;34m(\u001b[0m\u001b[0;34m)\u001b[0m\u001b[0;34m:\u001b[0m\u001b[0;34m\u001b[0m\u001b[0;34m\u001b[0m\u001b[0m\n\u001b[0;32m--> 802\u001b[0;31m                 \u001b[0mmodule\u001b[0m\u001b[0;34m.\u001b[0m\u001b[0m_apply\u001b[0m\u001b[0;34m(\u001b[0m\u001b[0mfn\u001b[0m\u001b[0;34m)\u001b[0m\u001b[0;34m\u001b[0m\u001b[0;34m\u001b[0m\u001b[0m\n\u001b[0m\u001b[1;32m    803\u001b[0m \u001b[0;34m\u001b[0m\u001b[0m\n\u001b[1;32m    804\u001b[0m         \u001b[0;32mdef\u001b[0m \u001b[0mcompute_should_use_set_data\u001b[0m\u001b[0;34m(\u001b[0m\u001b[0mtensor\u001b[0m\u001b[0;34m,\u001b[0m \u001b[0mtensor_applied\u001b[0m\u001b[0;34m)\u001b[0m\u001b[0;34m:\u001b[0m\u001b[0;34m\u001b[0m\u001b[0;34m\u001b[0m\u001b[0m\n",
            "\u001b[0;32m/usr/local/lib/python3.10/dist-packages/torch/nn/modules/module.py\u001b[0m in \u001b[0;36m_apply\u001b[0;34m(self, fn, recurse)\u001b[0m\n\u001b[1;32m    800\u001b[0m         \u001b[0;32mif\u001b[0m \u001b[0mrecurse\u001b[0m\u001b[0;34m:\u001b[0m\u001b[0;34m\u001b[0m\u001b[0;34m\u001b[0m\u001b[0m\n\u001b[1;32m    801\u001b[0m             \u001b[0;32mfor\u001b[0m \u001b[0mmodule\u001b[0m \u001b[0;32min\u001b[0m \u001b[0mself\u001b[0m\u001b[0;34m.\u001b[0m\u001b[0mchildren\u001b[0m\u001b[0;34m(\u001b[0m\u001b[0;34m)\u001b[0m\u001b[0;34m:\u001b[0m\u001b[0;34m\u001b[0m\u001b[0;34m\u001b[0m\u001b[0m\n\u001b[0;32m--> 802\u001b[0;31m                 \u001b[0mmodule\u001b[0m\u001b[0;34m.\u001b[0m\u001b[0m_apply\u001b[0m\u001b[0;34m(\u001b[0m\u001b[0mfn\u001b[0m\u001b[0;34m)\u001b[0m\u001b[0;34m\u001b[0m\u001b[0;34m\u001b[0m\u001b[0m\n\u001b[0m\u001b[1;32m    803\u001b[0m \u001b[0;34m\u001b[0m\u001b[0m\n\u001b[1;32m    804\u001b[0m         \u001b[0;32mdef\u001b[0m \u001b[0mcompute_should_use_set_data\u001b[0m\u001b[0;34m(\u001b[0m\u001b[0mtensor\u001b[0m\u001b[0;34m,\u001b[0m \u001b[0mtensor_applied\u001b[0m\u001b[0;34m)\u001b[0m\u001b[0;34m:\u001b[0m\u001b[0;34m\u001b[0m\u001b[0;34m\u001b[0m\u001b[0m\n",
            "\u001b[0;32m/usr/local/lib/python3.10/dist-packages/torch/nn/modules/module.py\u001b[0m in \u001b[0;36m_apply\u001b[0;34m(self, fn, recurse)\u001b[0m\n\u001b[1;32m    800\u001b[0m         \u001b[0;32mif\u001b[0m \u001b[0mrecurse\u001b[0m\u001b[0;34m:\u001b[0m\u001b[0;34m\u001b[0m\u001b[0;34m\u001b[0m\u001b[0m\n\u001b[1;32m    801\u001b[0m             \u001b[0;32mfor\u001b[0m \u001b[0mmodule\u001b[0m \u001b[0;32min\u001b[0m \u001b[0mself\u001b[0m\u001b[0;34m.\u001b[0m\u001b[0mchildren\u001b[0m\u001b[0;34m(\u001b[0m\u001b[0;34m)\u001b[0m\u001b[0;34m:\u001b[0m\u001b[0;34m\u001b[0m\u001b[0;34m\u001b[0m\u001b[0m\n\u001b[0;32m--> 802\u001b[0;31m                 \u001b[0mmodule\u001b[0m\u001b[0;34m.\u001b[0m\u001b[0m_apply\u001b[0m\u001b[0;34m(\u001b[0m\u001b[0mfn\u001b[0m\u001b[0;34m)\u001b[0m\u001b[0;34m\u001b[0m\u001b[0;34m\u001b[0m\u001b[0m\n\u001b[0m\u001b[1;32m    803\u001b[0m \u001b[0;34m\u001b[0m\u001b[0m\n\u001b[1;32m    804\u001b[0m         \u001b[0;32mdef\u001b[0m \u001b[0mcompute_should_use_set_data\u001b[0m\u001b[0;34m(\u001b[0m\u001b[0mtensor\u001b[0m\u001b[0;34m,\u001b[0m \u001b[0mtensor_applied\u001b[0m\u001b[0;34m)\u001b[0m\u001b[0;34m:\u001b[0m\u001b[0;34m\u001b[0m\u001b[0;34m\u001b[0m\u001b[0m\n",
            "\u001b[0;32m/usr/local/lib/python3.10/dist-packages/torch/nn/modules/module.py\u001b[0m in \u001b[0;36m_apply\u001b[0;34m(self, fn, recurse)\u001b[0m\n\u001b[1;32m    800\u001b[0m         \u001b[0;32mif\u001b[0m \u001b[0mrecurse\u001b[0m\u001b[0;34m:\u001b[0m\u001b[0;34m\u001b[0m\u001b[0;34m\u001b[0m\u001b[0m\n\u001b[1;32m    801\u001b[0m             \u001b[0;32mfor\u001b[0m \u001b[0mmodule\u001b[0m \u001b[0;32min\u001b[0m \u001b[0mself\u001b[0m\u001b[0;34m.\u001b[0m\u001b[0mchildren\u001b[0m\u001b[0;34m(\u001b[0m\u001b[0;34m)\u001b[0m\u001b[0;34m:\u001b[0m\u001b[0;34m\u001b[0m\u001b[0;34m\u001b[0m\u001b[0m\n\u001b[0;32m--> 802\u001b[0;31m                 \u001b[0mmodule\u001b[0m\u001b[0;34m.\u001b[0m\u001b[0m_apply\u001b[0m\u001b[0;34m(\u001b[0m\u001b[0mfn\u001b[0m\u001b[0;34m)\u001b[0m\u001b[0;34m\u001b[0m\u001b[0;34m\u001b[0m\u001b[0m\n\u001b[0m\u001b[1;32m    803\u001b[0m \u001b[0;34m\u001b[0m\u001b[0m\n\u001b[1;32m    804\u001b[0m         \u001b[0;32mdef\u001b[0m \u001b[0mcompute_should_use_set_data\u001b[0m\u001b[0;34m(\u001b[0m\u001b[0mtensor\u001b[0m\u001b[0;34m,\u001b[0m \u001b[0mtensor_applied\u001b[0m\u001b[0;34m)\u001b[0m\u001b[0;34m:\u001b[0m\u001b[0;34m\u001b[0m\u001b[0;34m\u001b[0m\u001b[0m\n",
            "\u001b[0;32m/usr/local/lib/python3.10/dist-packages/torch/nn/modules/module.py\u001b[0m in \u001b[0;36m_apply\u001b[0;34m(self, fn, recurse)\u001b[0m\n\u001b[1;32m    823\u001b[0m             \u001b[0;31m# `with torch.no_grad():`\u001b[0m\u001b[0;34m\u001b[0m\u001b[0;34m\u001b[0m\u001b[0m\n\u001b[1;32m    824\u001b[0m             \u001b[0;32mwith\u001b[0m \u001b[0mtorch\u001b[0m\u001b[0;34m.\u001b[0m\u001b[0mno_grad\u001b[0m\u001b[0;34m(\u001b[0m\u001b[0;34m)\u001b[0m\u001b[0;34m:\u001b[0m\u001b[0;34m\u001b[0m\u001b[0;34m\u001b[0m\u001b[0m\n\u001b[0;32m--> 825\u001b[0;31m                 \u001b[0mparam_applied\u001b[0m \u001b[0;34m=\u001b[0m \u001b[0mfn\u001b[0m\u001b[0;34m(\u001b[0m\u001b[0mparam\u001b[0m\u001b[0;34m)\u001b[0m\u001b[0;34m\u001b[0m\u001b[0;34m\u001b[0m\u001b[0m\n\u001b[0m\u001b[1;32m    826\u001b[0m             \u001b[0mshould_use_set_data\u001b[0m \u001b[0;34m=\u001b[0m \u001b[0mcompute_should_use_set_data\u001b[0m\u001b[0;34m(\u001b[0m\u001b[0mparam\u001b[0m\u001b[0;34m,\u001b[0m \u001b[0mparam_applied\u001b[0m\u001b[0;34m)\u001b[0m\u001b[0;34m\u001b[0m\u001b[0;34m\u001b[0m\u001b[0m\n\u001b[1;32m    827\u001b[0m             \u001b[0;32mif\u001b[0m \u001b[0mshould_use_set_data\u001b[0m\u001b[0;34m:\u001b[0m\u001b[0;34m\u001b[0m\u001b[0;34m\u001b[0m\u001b[0m\n",
            "\u001b[0;32m/usr/local/lib/python3.10/dist-packages/torch/nn/modules/module.py\u001b[0m in \u001b[0;36m<lambda>\u001b[0;34m(t)\u001b[0m\n\u001b[1;32m    909\u001b[0m             \u001b[0mModule\u001b[0m\u001b[0;34m:\u001b[0m \u001b[0mself\u001b[0m\u001b[0;34m\u001b[0m\u001b[0;34m\u001b[0m\u001b[0m\n\u001b[1;32m    910\u001b[0m         \"\"\"\n\u001b[0;32m--> 911\u001b[0;31m         \u001b[0;32mreturn\u001b[0m \u001b[0mself\u001b[0m\u001b[0;34m.\u001b[0m\u001b[0m_apply\u001b[0m\u001b[0;34m(\u001b[0m\u001b[0;32mlambda\u001b[0m \u001b[0mt\u001b[0m\u001b[0;34m:\u001b[0m \u001b[0mt\u001b[0m\u001b[0;34m.\u001b[0m\u001b[0mcuda\u001b[0m\u001b[0;34m(\u001b[0m\u001b[0mdevice\u001b[0m\u001b[0;34m)\u001b[0m\u001b[0;34m)\u001b[0m\u001b[0;34m\u001b[0m\u001b[0;34m\u001b[0m\u001b[0m\n\u001b[0m\u001b[1;32m    912\u001b[0m \u001b[0;34m\u001b[0m\u001b[0m\n\u001b[1;32m    913\u001b[0m     \u001b[0;32mdef\u001b[0m \u001b[0mipu\u001b[0m\u001b[0;34m(\u001b[0m\u001b[0mself\u001b[0m\u001b[0;34m:\u001b[0m \u001b[0mT\u001b[0m\u001b[0;34m,\u001b[0m \u001b[0mdevice\u001b[0m\u001b[0;34m:\u001b[0m \u001b[0mOptional\u001b[0m\u001b[0;34m[\u001b[0m\u001b[0mUnion\u001b[0m\u001b[0;34m[\u001b[0m\u001b[0mint\u001b[0m\u001b[0;34m,\u001b[0m \u001b[0mdevice\u001b[0m\u001b[0;34m]\u001b[0m\u001b[0;34m]\u001b[0m \u001b[0;34m=\u001b[0m \u001b[0;32mNone\u001b[0m\u001b[0;34m)\u001b[0m \u001b[0;34m->\u001b[0m \u001b[0mT\u001b[0m\u001b[0;34m:\u001b[0m\u001b[0;34m\u001b[0m\u001b[0;34m\u001b[0m\u001b[0m\n",
            "\u001b[0;32m/usr/local/lib/python3.10/dist-packages/torch/cuda/__init__.py\u001b[0m in \u001b[0;36m_lazy_init\u001b[0;34m()\u001b[0m\n\u001b[1;32m    300\u001b[0m         \u001b[0;32mif\u001b[0m \u001b[0;34m\"CUDA_MODULE_LOADING\"\u001b[0m \u001b[0;32mnot\u001b[0m \u001b[0;32min\u001b[0m \u001b[0mos\u001b[0m\u001b[0;34m.\u001b[0m\u001b[0menviron\u001b[0m\u001b[0;34m:\u001b[0m\u001b[0;34m\u001b[0m\u001b[0;34m\u001b[0m\u001b[0m\n\u001b[1;32m    301\u001b[0m             \u001b[0mos\u001b[0m\u001b[0;34m.\u001b[0m\u001b[0menviron\u001b[0m\u001b[0;34m[\u001b[0m\u001b[0;34m\"CUDA_MODULE_LOADING\"\u001b[0m\u001b[0;34m]\u001b[0m \u001b[0;34m=\u001b[0m \u001b[0;34m\"LAZY\"\u001b[0m\u001b[0;34m\u001b[0m\u001b[0;34m\u001b[0m\u001b[0m\n\u001b[0;32m--> 302\u001b[0;31m         \u001b[0mtorch\u001b[0m\u001b[0;34m.\u001b[0m\u001b[0m_C\u001b[0m\u001b[0;34m.\u001b[0m\u001b[0m_cuda_init\u001b[0m\u001b[0;34m(\u001b[0m\u001b[0;34m)\u001b[0m\u001b[0;34m\u001b[0m\u001b[0;34m\u001b[0m\u001b[0m\n\u001b[0m\u001b[1;32m    303\u001b[0m         \u001b[0;31m# Some of the queued calls may reentrantly call _lazy_init();\u001b[0m\u001b[0;34m\u001b[0m\u001b[0;34m\u001b[0m\u001b[0m\n\u001b[1;32m    304\u001b[0m         \u001b[0;31m# we need to just return without initializing in that case.\u001b[0m\u001b[0;34m\u001b[0m\u001b[0;34m\u001b[0m\u001b[0m\n",
            "\u001b[0;31mRuntimeError\u001b[0m: Found no NVIDIA driver on your system. Please check that you have an NVIDIA GPU and installed a driver from http://www.nvidia.com/Download/index.aspx"
          ]
        }
      ],
      "source": [
        "import torch\n",
        "from torch import nn, einsum\n",
        "import torch.nn.functional as F\n",
        "from einops import rearrange, repeat\n",
        "from einops.layers.torch import Rearrange\n",
        "import numpy as np\n",
        "\n",
        "from transformers.models.vivit.modeling_vivit import VivitModel, VivitConfig, VivitLayer, VivitEncoder\n",
        "from transformers.models.speecht5.modeling_speecht5 import SpeechT5Decoder, SpeechT5Config, SpeechT5SpeechDecoderPostnet, SpeechT5HifiGan, SpeechT5HifiGanConfig\n",
        "\n",
        "# class VivitTubeletEmbeddings(nn.Module):\n",
        "#     \"\"\"\n",
        "#     Construct Vivit Tubelet embeddings.\n",
        "\n",
        "#     This module turns a batch of videos of shape (batch_size, num_frames, num_channels, height, width) into a tensor of\n",
        "#     shape (batch_size, seq_len, hidden_size) to be consumed by a Transformer encoder.\n",
        "\n",
        "#     The seq_len (the number of patches) equals (number of frames // tubelet_size[0]) * (height // tubelet_size[1]) *\n",
        "#     (width // tubelet_size[2]).\n",
        "#     \"\"\"\n",
        "\n",
        "#     def __init__(self, config):\n",
        "#         super().__init__()\n",
        "#         self.num_frames = config.num_frames\n",
        "#         self.image_size = config.image_size\n",
        "#         self.patch_size = config.tubelet_size\n",
        "#         self.num_patches = (\n",
        "#             (self.image_size[1] // self.patch_size[2]) # 256/16\n",
        "#             * (self.image_size[0] // self.patch_size[1]) # 16/4\n",
        "#             * (self.num_frames // self.patch_size[0]) # 32/2\n",
        "#         )\n",
        "#         self.embed_dim = config.hidden_size\n",
        "\n",
        "#         self.projection = nn.Conv3d(\n",
        "#             config.num_channels, config.hidden_size, kernel_size=config.tubelet_size, stride=config.tubelet_size\n",
        "#         )\n",
        "\n",
        "#     def forward(self, pixel_values):\n",
        "#         batch_size, num_frames, num_channels, height, width = pixel_values.shape\n",
        "#         if height != self.image_size[0] or width != self.image_size[1]:\n",
        "#             raise ValueError(\n",
        "#                 f\"Input image size ({height},{width}) doesn't match model ({self.image_size},{self.image_size}).\"\n",
        "#             )\n",
        "\n",
        "#         # permute to (batch_size, num_channels, num_frames, height, width)\n",
        "#         pixel_values = pixel_values.permute(0, 2, 1, 3, 4)\n",
        "\n",
        "#         x = self.projection(pixel_values)\n",
        "#         # out_batch_size, out_num_channels, out_num_frames, out_height, out_width = x.shape\n",
        "#         x = self.projection(pixel_values).flatten(2).transpose(1, 2)\n",
        "#         return x\n",
        "\n",
        "\n",
        "# class VivitEmbeddings(nn.Module):\n",
        "#     \"\"\"\n",
        "#     Vivit Embeddings.\n",
        "\n",
        "#     Creates embeddings from a video using VivitTubeletEmbeddings, adds CLS token and positional embeddings.\n",
        "#     \"\"\"\n",
        "\n",
        "#     def __init__(self, config):\n",
        "#         super().__init__()\n",
        "\n",
        "#         self.cls_token = nn.Parameter(torch.zeros(1, 1, config.hidden_size))\n",
        "#         self.patch_embeddings = VivitTubeletEmbeddings(config)\n",
        "\n",
        "#         self.position_embeddings = nn.Parameter(\n",
        "#             torch.zeros(1, self.patch_embeddings.num_patches + 1, config.hidden_size)\n",
        "#         )\n",
        "#         self.dropout = nn.Dropout(config.hidden_dropout_prob)\n",
        "#         self.config = config\n",
        "\n",
        "#     def forward(self, pixel_values):\n",
        "#         batch_size = pixel_values.shape[0]\n",
        "#         embeddings = self.patch_embeddings(pixel_values)\n",
        "\n",
        "#         cls_tokens = self.cls_token.tile([batch_size, 1, 1])\n",
        "\n",
        "#         embeddings = torch.cat((cls_tokens, embeddings), dim=1)\n",
        "\n",
        "#         # add positional encoding to each token\n",
        "#         embeddings = embeddings + self.position_embeddings\n",
        "\n",
        "#         embeddings = self.dropout(embeddings)\n",
        "\n",
        "#         return embeddings\n",
        "\n",
        "# class VivitPooler(nn.Module): #dont simply pool like this?\n",
        "#     def __init__(self, config):\n",
        "#         super().__init__()\n",
        "#         self.dense = nn.Linear(config.hidden_size, config.hidden_size)\n",
        "#         self.activation = nn.Tanh()\n",
        "\n",
        "#     def forward(self, hidden_states):\n",
        "#         # We \"pool\" the model by simply taking the hidden state corresponding\n",
        "#         # to the first token.\n",
        "#         first_token_tensor = hidden_states[:, 0]\n",
        "#         pooled_output = self.dense(first_token_tensor)\n",
        "#         pooled_output = self.activation(pooled_output)\n",
        "#         return pooled_output\n",
        "\n",
        "class AiSynthModel(nn.Module):\n",
        "    def __init__(self, encoder, decoder, decoder_postnet,vocoder, image_size=(16,256), tubelet_size=[2,4,16], num_frames = 32, dim = 192, num_layers=4, pool = 'mean', in_channels = 1, dim_head = 64, heads=4, dropout = 0.,\n",
        "                 emb_dropout = 0., scale_dim = 4, ):\n",
        "        super().__init__()\n",
        "\n",
        "        # config.hidden_size = dim\n",
        "        # config.num_channels = in_channels\n",
        "        # config.num_frames = num_frames\n",
        "        # config.tubelet_size = tubelet_size\n",
        "        # config.image_size = image_size\n",
        "        # config.num_attention_heads = heads\n",
        "        # config.num_hidden_layers = num_layers\n",
        "        # self.config = config\n",
        "\n",
        "        # self.vivit_embeddings = VivitEmbeddings(config)\n",
        "\n",
        "        # self.vivit_encoder = VivitEncoder(config)\n",
        "\n",
        "        self.vivit_encoder = encoder\n",
        "\n",
        "        self.speech_t5_decoder = decoder\n",
        "\n",
        "        self.decoder_postnet = decoder_postnet\n",
        "\n",
        "        self.vocoder = vocoder\n",
        "\n",
        "\n",
        "        #nn.Sequential\n",
        "        #self.pooling = VivitPooler(config)\n",
        "\n",
        "        #define an operation to get from shape 1024x128 to\n",
        "\n",
        "\n",
        "    def forward(self, x):\n",
        "        #x = self.vivit_embeddings(x)\n",
        "        #from second last dimension, drop the class tokens bcs we aren't doing classification\n",
        "        #print(x.shape)\n",
        "        x = self.vivit_encoder(x)\n",
        "        print(x.last_hidden_state.shape)\n",
        "\n",
        "        #x = self.pooling(x)\n",
        "        #downsample to size of spectrogram\n",
        "        #x = F.avg_pool2d(x, 2)\n",
        "        #run through speech t5 decoder\n",
        "        x = self.speech_t5_decoder(x.last_hidden_state)\n",
        "\n",
        "        _ , x, _ = self.decoder_postnet(x.last_hidden_state)\n",
        "\n",
        "        x = self.vocoder(x)\n",
        "\n",
        "        return x\n",
        "\n",
        "\n",
        "if __name__ == \"__main__\":\n",
        "\n",
        "    img = torch.ones([1, 32, 3, 224, 224])#.cuda()\n",
        "\n",
        "    config_vivit = VivitConfig()\n",
        "    conf_dict = {\n",
        "    \"activation_dropout\": 0.1,\n",
        "    \"attention_dropout\": 0.1,\n",
        "    \"decoder_attention_heads\": 8,\n",
        "    \"decoder_ffn_dim\": 3072,\n",
        "    \"decoder_layerdrop\": 0.1,\n",
        "    \"decoder_layers\": 3,\n",
        "    \"decoder_start_token_id\": 2,\n",
        "    \"hidden_act\": \"gelu\",\n",
        "    \"hidden_dropout\": 0.1,\n",
        "    \"hidden_size\": 768,\n",
        "    \"is_encoder_decoder\": True,\n",
        "    \"layer_norm_eps\": 1e-05,\n",
        "    \"mask_feature_length\": 4,\n",
        "    \"mask_feature_min_masks\": 0,\n",
        "    \"mask_feature_prob\": 0.0,\n",
        "    \"mask_time_length\": 4,\n",
        "    \"mask_time_min_masks\": 2,\n",
        "    \"positional_dropout\": 0.1,\n",
        "    \"transformers_version\": \"4.40.1\",\n",
        "    \"use_guided_attention_loss\": True,\n",
        "    }\n",
        "    config_speecht5 = SpeechT5Config(**conf_dict)\n",
        "\n",
        "    encoder = VivitModel.from_pretrained(\"google/vivit-b-16x2-kinetics400\", add_pooling_layer=False)\n",
        "    decoder = SpeechT5Decoder(config_speecht5)\n",
        "    decoder_postnet = SpeechT5SpeechDecoderPostnet(config_speecht5)\n",
        "\n",
        "    config_vocoder = SpeechT5HifiGanConfig()\n",
        "    vocoder = SpeechT5HifiGan(config_vocoder)\n",
        "    model = AiSynthModel(encoder, decoder, decoder_postnet, vocoder, image_size=(224,224),tubelet_size=[2,8,32], num_frames = 64, dim = 512, num_layers=4)#.cuda()\n",
        "    model.eval()\n",
        "\n",
        "    parameters = filter(lambda p: p.requires_grad, model.parameters())\n",
        "    parameters = sum([np.prod(p.size()) for p in parameters]) / 1_000_000\n",
        "    print('Trainable Parameters: %.3fM' % parameters)\n",
        "\n",
        "    out = model(img)\n",
        "\n",
        "    print(\"Shape of out :\", out.shape)      # [B, num_classes]\n",
        "    print(\"dtype of out :\", out.dtype)      # float32\n",
        "\n"
      ]
    },
    {
      "cell_type": "code",
      "source": [
        "out[0].shape"
      ],
      "metadata": {
        "colab": {
          "base_uri": "https://localhost:8080/"
        },
        "id": "0WwcT2ufMmNu",
        "outputId": "98f452f1-bd73-4a39-e78a-a16902b6b2c9"
      },
      "execution_count": null,
      "outputs": [
        {
          "output_type": "execute_result",
          "data": {
            "text/plain": [
              "torch.Size([1, 6274, 80])"
            ]
          },
          "metadata": {},
          "execution_count": 8
        }
      ]
    },
    {
      "cell_type": "code",
      "source": [
        "out[1].shape"
      ],
      "metadata": {
        "colab": {
          "base_uri": "https://localhost:8080/"
        },
        "id": "CXxafGsFT2U9",
        "outputId": "bb6f9067-440f-4cc8-8664-39966944de2d"
      },
      "execution_count": null,
      "outputs": [
        {
          "output_type": "execute_result",
          "data": {
            "text/plain": [
              "torch.Size([1, 6274, 80])"
            ]
          },
          "metadata": {},
          "execution_count": 9
        }
      ]
    },
    {
      "cell_type": "code",
      "source": [
        "out[2].shape"
      ],
      "metadata": {
        "colab": {
          "base_uri": "https://localhost:8080/"
        },
        "id": "D7OiAlzwT41m",
        "outputId": "e29e15e6-add7-4467-8acb-6392ebab0e16"
      },
      "execution_count": null,
      "outputs": [
        {
          "output_type": "execute_result",
          "data": {
            "text/plain": [
              "torch.Size([1, 6274])"
            ]
          },
          "metadata": {},
          "execution_count": 10
        }
      ]
    },
    {
      "cell_type": "code",
      "execution_count": null,
      "metadata": {
        "id": "b0Vyssvil6HS"
      },
      "outputs": [],
      "source": [
        "import os\n",
        "import torch\n",
        "from torch.utils.data import Dataset, DataLoader\n",
        "import numpy as np\n",
        "import torchvision\n",
        "from tqdm import tqdm\n",
        "import torchaudio\n",
        "from torchvision import transforms\n",
        "#import wandb\n",
        "import sys,os\n",
        "\n",
        "device = 'cuda' if torch.cuda.is_available() else 'cpu'\n",
        "\n",
        "class CustomDataset(Dataset):\n",
        "    def __init__(self, root_dir):\n",
        "        self.root_dir = root_dir\n",
        "        # self.max_waveform_length = max_waveform_length\n",
        "        # self.max_num_frames = max_num_frames\n",
        "        self.frames = [file for file in os.listdir(os.path.join(root_dir, 'frames_pt')) if file.endswith('.pt')]\n",
        "        self.frames.sort()\n",
        "        self.graytransform = torchvision.transforms.Grayscale()\n",
        "\n",
        "    def __len__(self):\n",
        "        return len(self.frames)\n",
        "\n",
        "    def __getitem__(self, idx):\n",
        "        wav_file = os.path.join(self.root_dir, 'wavs', self.frames[idx].replace('.pt', '.wav'))\n",
        "        frames_path = os.path.join(self.root_dir, 'frames_pt', self.frames[idx])\n",
        "        spectrogram_path = os.path.join(self.root_dir, 'spectrograms_pt', self.frames[idx])\n",
        "\n",
        "        waveform, sample_rate = torchaudio.load(wav_file)\n",
        "\n",
        "        frames = torch.load(frames_path).unsqueeze(1).unsqueeze(0)\n",
        "        frames = self.graytransform(frames).float() / 127.5 - 1 # 0-1\n",
        "        spectrogram = torch.load(spectrogram_path).unsqueeze(0)\n",
        "\n",
        "        name = self.frames[idx].replace('.pt', '')\n",
        "        return frames, spectrogram, waveform, name\n",
        "\n",
        "def collate_fn(batch):\n",
        "    frames, spectrogram, waveform, name = zip(*batch)\n",
        "    dat = {'frames':torch.vstack(frames).to(device=device), 'spectrogram':  torch.vstack(spectrogram).to(device=device), 'wav': torch.vstack(waveform).to(device=device), 'name':name}\n",
        "    return dat\n",
        "\n",
        "#init model\n",
        "batch_size=8\n",
        "train_dataset = CustomDataset(root_dir='data/processed/train')\n",
        "train_loader = DataLoader(train_dataset, batch_size=batch_size, shuffle=False, collate_fn=collate_fn)\n",
        "val_dataset = CustomDataset(root_dir='data/processed/val')\n",
        "val_loader = DataLoader(val_dataset, batch_size=batch_size, shuffle=False, collate_fn=collate_fn)\n"
      ]
    },
    {
      "cell_type": "code",
      "execution_count": null,
      "metadata": {
        "id": "NQHH_cLU1Qj-"
      },
      "outputs": [],
      "source": [
        "from transformers import VivitConfig\n",
        "#model_enc = VivitModel.from_pretrained(\"google/vivit-b-16x2-kinetics400\")"
      ]
    },
    {
      "cell_type": "code",
      "execution_count": null,
      "metadata": {
        "id": "vynVNV6iDlxp",
        "colab": {
          "base_uri": "https://localhost:8080/"
        },
        "outputId": "0791bbad-6872-4e77-d342-4c61c11b6a1e"
      },
      "outputs": [
        {
          "output_type": "stream",
          "name": "stdout",
          "text": [
            "Trainable Parameters: 23.646M\n"
          ]
        },
        {
          "output_type": "stream",
          "name": "stderr",
          "text": [
            "Epoch 1/10 - Train: 100%|██████████| 22/22 [03:04<00:00,  8.37s/it, train_loss=44.9039, val_loss=175.4476]\n",
            "Epoch 2/10 - Train: 100%|██████████| 22/22 [00:08<00:00,  2.50it/s, train_loss=44.8976, val_loss=175.4476]\n",
            "Epoch 3/10 - Train: 100%|██████████| 22/22 [00:15<00:00,  1.44it/s, train_loss=44.8736, val_loss=175.4056]\n",
            "Epoch 4/10 - Train: 100%|██████████| 22/22 [00:08<00:00,  2.51it/s, train_loss=44.8669, val_loss=175.4056]\n",
            "Epoch 5/10 - Train: 100%|██████████| 22/22 [00:14<00:00,  1.50it/s, train_loss=44.8534, val_loss=175.4014]\n",
            "Epoch 6/10 - Train: 100%|██████████| 22/22 [00:08<00:00,  2.65it/s, train_loss=44.8769, val_loss=175.4014]\n",
            "Epoch 7/10 - Train: 100%|██████████| 22/22 [00:14<00:00,  1.56it/s, train_loss=44.8495, val_loss=175.3956]\n",
            "Epoch 8/10 - Train: 100%|██████████| 22/22 [00:08<00:00,  2.49it/s, train_loss=44.8566, val_loss=175.3956]\n",
            "Epoch 9/10 - Train: 100%|██████████| 22/22 [00:08<00:00,  2.51it/s, train_loss=44.8439, val_loss=175.3956]\n",
            "Epoch 10/10 - Train: 100%|██████████| 22/22 [00:14<00:00,  1.48it/s, train_loss=44.8448, val_loss=175.3952]\n"
          ]
        }
      ],
      "source": [
        "from tqdm import tqdm\n",
        "import librosa #, wandb\n",
        "\n",
        "config_vivit = VivitConfig()\n",
        "conf_dict = {\n",
        "\"activation_dropout\": 0.1,\n",
        "\"attention_dropout\": 0.1,\n",
        "\"decoder_attention_heads\": 8,\n",
        "\"decoder_ffn_dim\": 3072,\n",
        "\"decoder_layerdrop\": 0.1,\n",
        "\"decoder_layers\": 3,\n",
        "\"decoder_start_token_id\": 2,\n",
        "\"hidden_act\": \"gelu\",\n",
        "\"hidden_dropout\": 0.1,\n",
        "\"hidden_size\": 256,\n",
        "\"is_encoder_decoder\": True,\n",
        "\"layer_norm_eps\": 1e-05,\n",
        "\"mask_feature_length\": 4,\n",
        "\"mask_feature_min_masks\": 0,\n",
        "\"mask_feature_prob\": 0.0,\n",
        "\"mask_time_length\": 4,\n",
        "\"mask_time_min_masks\": 2,\n",
        "\"positional_dropout\": 0.1,\n",
        "\"transformers_version\": \"4.40.1\",\n",
        "\"use_guided_attention_loss\": True,\n",
        "}\n",
        "config_speecht5 = SpeechT5Config(**conf_dict)\n",
        "\n",
        "decoder = SpeechT5Decoder(config_speecht5)\n",
        "model = AiSynthModel(config_vivit, decoder, image_size=(16,256),tubelet_size=[2,8,32], num_frames = 64, dim = 512)#.cuda()\n",
        "\n",
        "parameters = filter(lambda p: p.requires_grad, model.parameters())\n",
        "parameters = sum([np.prod(p.size()) for p in parameters]) / 1_000_000\n",
        "print('Trainable Parameters: %.3fM' % parameters)\n",
        "\n",
        "#opt\n",
        "optimizer = torch.optim.SGD(model.parameters(),lr=1e-2, momentum=0.9, weight_decay=1e-4)\n",
        "\n",
        "#loss fun\n",
        "criterion = nn.CrossEntropyLoss()\n",
        "\n",
        "\n",
        "# wandb.init(\n",
        "#     project=\"test_aisynth\",\n",
        "#     name=\"vid2audio\",\n",
        "#     job_type=\"training\",\n",
        "#     reinit=True)\n",
        "\n",
        "# %% Fit the model\n",
        "# Number of epochs\n",
        "epochs = 10\n",
        "train_losses = []\n",
        "val_losses = []\n",
        "step = 0\n",
        "val_interval=50\n",
        "#use tqdm to print train loss and val loss as updating instead of constantly printing\n",
        "\n",
        "\n",
        "tqdm\n",
        "\n",
        "val_loss = 10000\n",
        "for epoch in range(epochs):\n",
        "\n",
        "    with tqdm(total=len(train_loader), desc=f\"Epoch {epoch+1}/{epochs} - Train\") as pbar:\n",
        "\n",
        "        for dat in train_loader:\n",
        "\n",
        "            model.train()\n",
        "\n",
        "            out = model(dat['frames'])\n",
        "\n",
        "            loss = criterion(out, dat['spectrogram'])\n",
        "            #wandb.log({\"train_loss\": loss.detach().cpu().item()}, step=step)\n",
        "\n",
        "            optimizer.zero_grad()\n",
        "            loss.backward()\n",
        "            optimizer.step()\n",
        "\n",
        "            pbar.set_postfix({'train_loss': f'{loss:.4f}','val_loss': f'{val_loss:.4f}'})\n",
        "            pbar.update()\n",
        "            if step % val_interval == 0:\n",
        "                with torch.no_grad():\n",
        "                    model.eval()\n",
        "\n",
        "                    val_dat = next(iter(val_loader))\n",
        "\n",
        "                    val_out = model(val_dat['frames'])\n",
        "\n",
        "                    val_loss = criterion(val_out, val_dat['spectrogram'])\n",
        "\n",
        "\n",
        "                    #wandb.log({\"val_loss\": val_loss.detach().cpu().item()}, step=step)\n",
        "                    resized_wavs = F.interpolate(val_out.unsqueeze(1), size=(122,122), mode='bilinear', align_corners=False)\n",
        "\n",
        "                    out_wavs = librosa.feature.inverse.mel_to_audio(resized_wavs.cpu().squeeze().numpy(),\n",
        "                                            sr=16000,\n",
        "                                            n_fft=2048,\n",
        "                                            hop_length=512,\n",
        "                                            win_length=None,\n",
        "                                            window='hann',\n",
        "                                            center=False,\n",
        "                                            pad_mode='constant',\n",
        "                                            power=2.0,\n",
        "                                            n_iter=32)\n",
        "                    #use first channel of wav\n",
        "\n",
        "                    #cross entropy loss for reconstructed wav and \"ground truth\" wav\n",
        "                    val_loss_wav = criterion(torch.tensor(out_wavs), val_dat['wav'].detach().cpu())\n",
        "                    # wandb.log({\"val_loss_wav\": val_loss_wav.detach().cpu().item()}, step=step)\n",
        "\n",
        "\n",
        "            step += 1\n",
        "\n",
        "\n",
        "\n"
      ]
    },
    {
      "cell_type": "code",
      "execution_count": null,
      "metadata": {
        "colab": {
          "base_uri": "https://localhost:8080/",
          "height": 460
        },
        "id": "pCbTWo8vlKok",
        "outputId": "978442f8-2cc5-4597-ab99-75b131eb5867"
      },
      "outputs": [
        {
          "name": "stderr",
          "output_type": "stream",
          "text": [
            "  0%|          | 0/22 [00:00<?, ?it/s]\n"
          ]
        },
        {
          "ename": "RuntimeError",
          "evalue": "Trying to backward through the graph a second time (or directly access saved tensors after they have already been freed). Saved intermediate values of the graph are freed when you call .backward() or autograd.grad(). Specify retain_graph=True if you need to backward through the graph a second time or if you need to access saved tensors after calling backward.",
          "output_type": "error",
          "traceback": [
            "\u001b[1;31m---------------------------------------------------------------------------\u001b[0m",
            "\u001b[1;31mRuntimeError\u001b[0m                              Traceback (most recent call last)",
            "Cell \u001b[1;32mIn[26], line 17\u001b[0m\n\u001b[0;32m     13\u001b[0m train_losses\u001b[38;5;241m.\u001b[39mappend(loss\u001b[38;5;241m.\u001b[39mdetach()\u001b[38;5;241m.\u001b[39mcpu()\u001b[38;5;241m.\u001b[39mitem())\n\u001b[0;32m     16\u001b[0m optimizer\u001b[38;5;241m.\u001b[39mzero_grad()\n\u001b[1;32m---> 17\u001b[0m \u001b[43mloss\u001b[49m\u001b[38;5;241;43m.\u001b[39;49m\u001b[43mbackward\u001b[49m\u001b[43m(\u001b[49m\u001b[43m)\u001b[49m\n\u001b[0;32m     18\u001b[0m optimizer\u001b[38;5;241m.\u001b[39mstep()\n",
            "File \u001b[1;32mc:\\Users\\arifs\\miniconda3\\Lib\\site-packages\\torch\\_tensor.py:522\u001b[0m, in \u001b[0;36mTensor.backward\u001b[1;34m(self, gradient, retain_graph, create_graph, inputs)\u001b[0m\n\u001b[0;32m    512\u001b[0m \u001b[38;5;28;01mif\u001b[39;00m has_torch_function_unary(\u001b[38;5;28mself\u001b[39m):\n\u001b[0;32m    513\u001b[0m     \u001b[38;5;28;01mreturn\u001b[39;00m handle_torch_function(\n\u001b[0;32m    514\u001b[0m         Tensor\u001b[38;5;241m.\u001b[39mbackward,\n\u001b[0;32m    515\u001b[0m         (\u001b[38;5;28mself\u001b[39m,),\n\u001b[1;32m   (...)\u001b[0m\n\u001b[0;32m    520\u001b[0m         inputs\u001b[38;5;241m=\u001b[39minputs,\n\u001b[0;32m    521\u001b[0m     )\n\u001b[1;32m--> 522\u001b[0m \u001b[43mtorch\u001b[49m\u001b[38;5;241;43m.\u001b[39;49m\u001b[43mautograd\u001b[49m\u001b[38;5;241;43m.\u001b[39;49m\u001b[43mbackward\u001b[49m\u001b[43m(\u001b[49m\n\u001b[0;32m    523\u001b[0m \u001b[43m    \u001b[49m\u001b[38;5;28;43mself\u001b[39;49m\u001b[43m,\u001b[49m\u001b[43m \u001b[49m\u001b[43mgradient\u001b[49m\u001b[43m,\u001b[49m\u001b[43m \u001b[49m\u001b[43mretain_graph\u001b[49m\u001b[43m,\u001b[49m\u001b[43m \u001b[49m\u001b[43mcreate_graph\u001b[49m\u001b[43m,\u001b[49m\u001b[43m \u001b[49m\u001b[43minputs\u001b[49m\u001b[38;5;241;43m=\u001b[39;49m\u001b[43minputs\u001b[49m\n\u001b[0;32m    524\u001b[0m \u001b[43m\u001b[49m\u001b[43m)\u001b[49m\n",
            "File \u001b[1;32mc:\\Users\\arifs\\miniconda3\\Lib\\site-packages\\torch\\autograd\\__init__.py:266\u001b[0m, in \u001b[0;36mbackward\u001b[1;34m(tensors, grad_tensors, retain_graph, create_graph, grad_variables, inputs)\u001b[0m\n\u001b[0;32m    261\u001b[0m     retain_graph \u001b[38;5;241m=\u001b[39m create_graph\n\u001b[0;32m    263\u001b[0m \u001b[38;5;66;03m# The reason we repeat the same comment below is that\u001b[39;00m\n\u001b[0;32m    264\u001b[0m \u001b[38;5;66;03m# some Python versions print out the first line of a multi-line function\u001b[39;00m\n\u001b[0;32m    265\u001b[0m \u001b[38;5;66;03m# calls in the traceback and some print out the last line\u001b[39;00m\n\u001b[1;32m--> 266\u001b[0m \u001b[43mVariable\u001b[49m\u001b[38;5;241;43m.\u001b[39;49m\u001b[43m_execution_engine\u001b[49m\u001b[38;5;241;43m.\u001b[39;49m\u001b[43mrun_backward\u001b[49m\u001b[43m(\u001b[49m\u001b[43m  \u001b[49m\u001b[38;5;66;43;03m# Calls into the C++ engine to run the backward pass\u001b[39;49;00m\n\u001b[0;32m    267\u001b[0m \u001b[43m    \u001b[49m\u001b[43mtensors\u001b[49m\u001b[43m,\u001b[49m\n\u001b[0;32m    268\u001b[0m \u001b[43m    \u001b[49m\u001b[43mgrad_tensors_\u001b[49m\u001b[43m,\u001b[49m\n\u001b[0;32m    269\u001b[0m \u001b[43m    \u001b[49m\u001b[43mretain_graph\u001b[49m\u001b[43m,\u001b[49m\n\u001b[0;32m    270\u001b[0m \u001b[43m    \u001b[49m\u001b[43mcreate_graph\u001b[49m\u001b[43m,\u001b[49m\n\u001b[0;32m    271\u001b[0m \u001b[43m    \u001b[49m\u001b[43minputs\u001b[49m\u001b[43m,\u001b[49m\n\u001b[0;32m    272\u001b[0m \u001b[43m    \u001b[49m\u001b[43mallow_unreachable\u001b[49m\u001b[38;5;241;43m=\u001b[39;49m\u001b[38;5;28;43;01mTrue\u001b[39;49;00m\u001b[43m,\u001b[49m\n\u001b[0;32m    273\u001b[0m \u001b[43m    \u001b[49m\u001b[43maccumulate_grad\u001b[49m\u001b[38;5;241;43m=\u001b[39;49m\u001b[38;5;28;43;01mTrue\u001b[39;49;00m\u001b[43m,\u001b[49m\n\u001b[0;32m    274\u001b[0m \u001b[43m\u001b[49m\u001b[43m)\u001b[49m\n",
            "\u001b[1;31mRuntimeError\u001b[0m: Trying to backward through the graph a second time (or directly access saved tensors after they have already been freed). Saved intermediate values of the graph are freed when you call .backward() or autograd.grad(). Specify retain_graph=True if you need to backward through the graph a second time or if you need to access saved tensors after calling backward."
          ]
        }
      ],
      "source": [
        "\n",
        "\n",
        "# %% Fit the model\n",
        "# Number of epochs\n",
        "epochs = 3\n",
        "train_losses = []\n",
        "val_losses = []\n",
        "step = 0\n",
        "for epoch in range(epochs):\n",
        "\n",
        "    for dat in tqdm(train_loader):\n",
        "\n",
        "\n",
        "        #wandb.log({\"loss\": loss.detach().cpu().item()}, step=step)\n",
        "        train_losses.append(loss.detach().cpu().item())\n",
        "\n",
        "\n",
        "        optimizer.zero_grad()\n",
        "        loss.backward()\n",
        "        optimizer.step()\n",
        "\n",
        "\n"
      ]
    },
    {
      "cell_type": "code",
      "execution_count": null,
      "metadata": {
        "id": "XpVPXUsxlpqT"
      },
      "outputs": [],
      "source": []
    },
    {
      "cell_type": "code",
      "execution_count": null,
      "metadata": {
        "id": "LfDsykaLlq5k"
      },
      "outputs": [],
      "source": []
    },
    {
      "cell_type": "code",
      "execution_count": null,
      "metadata": {
        "id": "4qOOeWQt3UWW",
        "outputId": "7d93a087-1311-4d32-822f-5b669e3b41b4"
      },
      "outputs": [
        {
          "name": "stdout",
          "output_type": "stream",
          "text": [
            "Trainable Parameters: 29.958M\n",
            "Shape of out : torch.Size([1, 256, 256])\n",
            "dtype of out : torch.float32\n"
          ]
        }
      ],
      "source": []
    },
    {
      "cell_type": "code",
      "execution_count": null,
      "metadata": {
        "id": "NYnopooM3UWY",
        "outputId": "f511e758-de36-4398-f428-4ef1f4c39e1f"
      },
      "outputs": [
        {
          "data": {
            "text/plain": [
              "SpeechT5Decoder(\n",
              "  (layers): ModuleList(\n",
              "    (0-5): 6 x SpeechT5DecoderLayer(\n",
              "      (self_attn): SpeechT5Attention(\n",
              "        (k_proj): Linear(in_features=256, out_features=256, bias=True)\n",
              "        (v_proj): Linear(in_features=256, out_features=256, bias=True)\n",
              "        (q_proj): Linear(in_features=256, out_features=256, bias=True)\n",
              "        (out_proj): Linear(in_features=256, out_features=256, bias=True)\n",
              "      )\n",
              "      (dropout): Dropout(p=0.1, inplace=False)\n",
              "      (self_attn_layer_norm): LayerNorm((256,), eps=1e-05, elementwise_affine=True)\n",
              "      (encoder_attn): SpeechT5Attention(\n",
              "        (k_proj): Linear(in_features=256, out_features=256, bias=True)\n",
              "        (v_proj): Linear(in_features=256, out_features=256, bias=True)\n",
              "        (q_proj): Linear(in_features=256, out_features=256, bias=True)\n",
              "        (out_proj): Linear(in_features=256, out_features=256, bias=True)\n",
              "      )\n",
              "      (encoder_attn_layer_norm): LayerNorm((256,), eps=1e-05, elementwise_affine=True)\n",
              "      (feed_forward): SpeechT5FeedForward(\n",
              "        (intermediate_dropout): Dropout(p=0.1, inplace=False)\n",
              "        (intermediate_dense): Linear(in_features=256, out_features=3072, bias=True)\n",
              "        (intermediate_act_fn): GELUActivation()\n",
              "        (output_dense): Linear(in_features=3072, out_features=256, bias=True)\n",
              "        (output_dropout): Dropout(p=0.1, inplace=False)\n",
              "      )\n",
              "      (final_layer_norm): LayerNorm((256,), eps=1e-05, elementwise_affine=True)\n",
              "    )\n",
              "  )\n",
              ")"
            ]
          },
          "execution_count": 68,
          "metadata": {},
          "output_type": "execute_result"
        }
      ],
      "source": [
        "SpeechT5Decoder(config_speecht5)"
      ]
    },
    {
      "cell_type": "code",
      "execution_count": null,
      "metadata": {
        "id": "p-22rB_e3UWd",
        "outputId": "4529de6d-a6fd-4b2e-93de-7bfd8cfe2d21"
      },
      "outputs": [
        {
          "data": {
            "text/plain": [
              "VivitConfig {\n",
              "  \"attention_probs_dropout_prob\": 0.0,\n",
              "  \"hidden_act\": \"gelu_fast\",\n",
              "  \"hidden_dropout_prob\": 0.0,\n",
              "  \"hidden_size\": 768,\n",
              "  \"image_size\": 224,\n",
              "  \"initializer_range\": 0.02,\n",
              "  \"intermediate_size\": 3072,\n",
              "  \"layer_norm_eps\": 1e-06,\n",
              "  \"model_type\": \"vivit\",\n",
              "  \"num_attention_heads\": 12,\n",
              "  \"num_channels\": 3,\n",
              "  \"num_frames\": 32,\n",
              "  \"num_hidden_layers\": 12,\n",
              "  \"qkv_bias\": true,\n",
              "  \"transformers_version\": \"4.40.1\",\n",
              "  \"tubelet_size\": [\n",
              "    2,\n",
              "    16,\n",
              "    16\n",
              "  ]\n",
              "}"
            ]
          },
          "execution_count": 92,
          "metadata": {},
          "output_type": "execute_result"
        }
      ],
      "source": []
    },
    {
      "cell_type": "code",
      "execution_count": null,
      "metadata": {
        "id": "W6dpF29l3UWe"
      },
      "outputs": [],
      "source": []
    },
    {
      "cell_type": "code",
      "execution_count": null,
      "metadata": {
        "id": "7rZy6AQn3UWf"
      },
      "outputs": [],
      "source": []
    }
  ],
  "metadata": {
    "colab": {
      "provenance": [],
      "toc_visible": true
    },
    "kernelspec": {
      "display_name": "Python 3",
      "name": "python3"
    },
    "language_info": {
      "codemirror_mode": {
        "name": "ipython",
        "version": 3
      },
      "file_extension": ".py",
      "mimetype": "text/x-python",
      "name": "python",
      "nbconvert_exporter": "python",
      "pygments_lexer": "ipython3",
      "version": "3.12.2"
    },
    "widgets": {
      "application/vnd.jupyter.widget-state+json": {
        "ec16445d4f6e407aa66e50aaaa5dac59": {
          "model_module": "@jupyter-widgets/controls",
          "model_name": "HBoxModel",
          "model_module_version": "1.5.0",
          "state": {
            "_dom_classes": [],
            "_model_module": "@jupyter-widgets/controls",
            "_model_module_version": "1.5.0",
            "_model_name": "HBoxModel",
            "_view_count": null,
            "_view_module": "@jupyter-widgets/controls",
            "_view_module_version": "1.5.0",
            "_view_name": "HBoxView",
            "box_style": "",
            "children": [
              "IPY_MODEL_70521a8f964748788236e8bc6a6d1a66",
              "IPY_MODEL_f0c2edb6118b40e599da8f9fba7c2fc7",
              "IPY_MODEL_3bdf4df6598e4a65a4624712c7cf7de1"
            ],
            "layout": "IPY_MODEL_1df18873866d41db953de9393b078a70"
          }
        },
        "70521a8f964748788236e8bc6a6d1a66": {
          "model_module": "@jupyter-widgets/controls",
          "model_name": "HTMLModel",
          "model_module_version": "1.5.0",
          "state": {
            "_dom_classes": [],
            "_model_module": "@jupyter-widgets/controls",
            "_model_module_version": "1.5.0",
            "_model_name": "HTMLModel",
            "_view_count": null,
            "_view_module": "@jupyter-widgets/controls",
            "_view_module_version": "1.5.0",
            "_view_name": "HTMLView",
            "description": "",
            "description_tooltip": null,
            "layout": "IPY_MODEL_6667d0f47f0c4811ba46a0e3512593bc",
            "placeholder": "​",
            "style": "IPY_MODEL_06afb20f7bb34e54a5430d552b5294fe",
            "value": "config.json: 100%"
          }
        },
        "f0c2edb6118b40e599da8f9fba7c2fc7": {
          "model_module": "@jupyter-widgets/controls",
          "model_name": "FloatProgressModel",
          "model_module_version": "1.5.0",
          "state": {
            "_dom_classes": [],
            "_model_module": "@jupyter-widgets/controls",
            "_model_module_version": "1.5.0",
            "_model_name": "FloatProgressModel",
            "_view_count": null,
            "_view_module": "@jupyter-widgets/controls",
            "_view_module_version": "1.5.0",
            "_view_name": "ProgressView",
            "bar_style": "success",
            "description": "",
            "description_tooltip": null,
            "layout": "IPY_MODEL_bb0e66e1dae84f3cacf71e8aa7bac873",
            "max": 18554,
            "min": 0,
            "orientation": "horizontal",
            "style": "IPY_MODEL_a3bf2902e8544e53ac7734e8b0ed6071",
            "value": 18554
          }
        },
        "3bdf4df6598e4a65a4624712c7cf7de1": {
          "model_module": "@jupyter-widgets/controls",
          "model_name": "HTMLModel",
          "model_module_version": "1.5.0",
          "state": {
            "_dom_classes": [],
            "_model_module": "@jupyter-widgets/controls",
            "_model_module_version": "1.5.0",
            "_model_name": "HTMLModel",
            "_view_count": null,
            "_view_module": "@jupyter-widgets/controls",
            "_view_module_version": "1.5.0",
            "_view_name": "HTMLView",
            "description": "",
            "description_tooltip": null,
            "layout": "IPY_MODEL_38b97057e90044b2bbb268cb2453870b",
            "placeholder": "​",
            "style": "IPY_MODEL_97a05342af21459594474f0d3b8ccca6",
            "value": " 18.6k/18.6k [00:00&lt;00:00, 687kB/s]"
          }
        },
        "1df18873866d41db953de9393b078a70": {
          "model_module": "@jupyter-widgets/base",
          "model_name": "LayoutModel",
          "model_module_version": "1.2.0",
          "state": {
            "_model_module": "@jupyter-widgets/base",
            "_model_module_version": "1.2.0",
            "_model_name": "LayoutModel",
            "_view_count": null,
            "_view_module": "@jupyter-widgets/base",
            "_view_module_version": "1.2.0",
            "_view_name": "LayoutView",
            "align_content": null,
            "align_items": null,
            "align_self": null,
            "border": null,
            "bottom": null,
            "display": null,
            "flex": null,
            "flex_flow": null,
            "grid_area": null,
            "grid_auto_columns": null,
            "grid_auto_flow": null,
            "grid_auto_rows": null,
            "grid_column": null,
            "grid_gap": null,
            "grid_row": null,
            "grid_template_areas": null,
            "grid_template_columns": null,
            "grid_template_rows": null,
            "height": null,
            "justify_content": null,
            "justify_items": null,
            "left": null,
            "margin": null,
            "max_height": null,
            "max_width": null,
            "min_height": null,
            "min_width": null,
            "object_fit": null,
            "object_position": null,
            "order": null,
            "overflow": null,
            "overflow_x": null,
            "overflow_y": null,
            "padding": null,
            "right": null,
            "top": null,
            "visibility": null,
            "width": null
          }
        },
        "6667d0f47f0c4811ba46a0e3512593bc": {
          "model_module": "@jupyter-widgets/base",
          "model_name": "LayoutModel",
          "model_module_version": "1.2.0",
          "state": {
            "_model_module": "@jupyter-widgets/base",
            "_model_module_version": "1.2.0",
            "_model_name": "LayoutModel",
            "_view_count": null,
            "_view_module": "@jupyter-widgets/base",
            "_view_module_version": "1.2.0",
            "_view_name": "LayoutView",
            "align_content": null,
            "align_items": null,
            "align_self": null,
            "border": null,
            "bottom": null,
            "display": null,
            "flex": null,
            "flex_flow": null,
            "grid_area": null,
            "grid_auto_columns": null,
            "grid_auto_flow": null,
            "grid_auto_rows": null,
            "grid_column": null,
            "grid_gap": null,
            "grid_row": null,
            "grid_template_areas": null,
            "grid_template_columns": null,
            "grid_template_rows": null,
            "height": null,
            "justify_content": null,
            "justify_items": null,
            "left": null,
            "margin": null,
            "max_height": null,
            "max_width": null,
            "min_height": null,
            "min_width": null,
            "object_fit": null,
            "object_position": null,
            "order": null,
            "overflow": null,
            "overflow_x": null,
            "overflow_y": null,
            "padding": null,
            "right": null,
            "top": null,
            "visibility": null,
            "width": null
          }
        },
        "06afb20f7bb34e54a5430d552b5294fe": {
          "model_module": "@jupyter-widgets/controls",
          "model_name": "DescriptionStyleModel",
          "model_module_version": "1.5.0",
          "state": {
            "_model_module": "@jupyter-widgets/controls",
            "_model_module_version": "1.5.0",
            "_model_name": "DescriptionStyleModel",
            "_view_count": null,
            "_view_module": "@jupyter-widgets/base",
            "_view_module_version": "1.2.0",
            "_view_name": "StyleView",
            "description_width": ""
          }
        },
        "bb0e66e1dae84f3cacf71e8aa7bac873": {
          "model_module": "@jupyter-widgets/base",
          "model_name": "LayoutModel",
          "model_module_version": "1.2.0",
          "state": {
            "_model_module": "@jupyter-widgets/base",
            "_model_module_version": "1.2.0",
            "_model_name": "LayoutModel",
            "_view_count": null,
            "_view_module": "@jupyter-widgets/base",
            "_view_module_version": "1.2.0",
            "_view_name": "LayoutView",
            "align_content": null,
            "align_items": null,
            "align_self": null,
            "border": null,
            "bottom": null,
            "display": null,
            "flex": null,
            "flex_flow": null,
            "grid_area": null,
            "grid_auto_columns": null,
            "grid_auto_flow": null,
            "grid_auto_rows": null,
            "grid_column": null,
            "grid_gap": null,
            "grid_row": null,
            "grid_template_areas": null,
            "grid_template_columns": null,
            "grid_template_rows": null,
            "height": null,
            "justify_content": null,
            "justify_items": null,
            "left": null,
            "margin": null,
            "max_height": null,
            "max_width": null,
            "min_height": null,
            "min_width": null,
            "object_fit": null,
            "object_position": null,
            "order": null,
            "overflow": null,
            "overflow_x": null,
            "overflow_y": null,
            "padding": null,
            "right": null,
            "top": null,
            "visibility": null,
            "width": null
          }
        },
        "a3bf2902e8544e53ac7734e8b0ed6071": {
          "model_module": "@jupyter-widgets/controls",
          "model_name": "ProgressStyleModel",
          "model_module_version": "1.5.0",
          "state": {
            "_model_module": "@jupyter-widgets/controls",
            "_model_module_version": "1.5.0",
            "_model_name": "ProgressStyleModel",
            "_view_count": null,
            "_view_module": "@jupyter-widgets/base",
            "_view_module_version": "1.2.0",
            "_view_name": "StyleView",
            "bar_color": null,
            "description_width": ""
          }
        },
        "38b97057e90044b2bbb268cb2453870b": {
          "model_module": "@jupyter-widgets/base",
          "model_name": "LayoutModel",
          "model_module_version": "1.2.0",
          "state": {
            "_model_module": "@jupyter-widgets/base",
            "_model_module_version": "1.2.0",
            "_model_name": "LayoutModel",
            "_view_count": null,
            "_view_module": "@jupyter-widgets/base",
            "_view_module_version": "1.2.0",
            "_view_name": "LayoutView",
            "align_content": null,
            "align_items": null,
            "align_self": null,
            "border": null,
            "bottom": null,
            "display": null,
            "flex": null,
            "flex_flow": null,
            "grid_area": null,
            "grid_auto_columns": null,
            "grid_auto_flow": null,
            "grid_auto_rows": null,
            "grid_column": null,
            "grid_gap": null,
            "grid_row": null,
            "grid_template_areas": null,
            "grid_template_columns": null,
            "grid_template_rows": null,
            "height": null,
            "justify_content": null,
            "justify_items": null,
            "left": null,
            "margin": null,
            "max_height": null,
            "max_width": null,
            "min_height": null,
            "min_width": null,
            "object_fit": null,
            "object_position": null,
            "order": null,
            "overflow": null,
            "overflow_x": null,
            "overflow_y": null,
            "padding": null,
            "right": null,
            "top": null,
            "visibility": null,
            "width": null
          }
        },
        "97a05342af21459594474f0d3b8ccca6": {
          "model_module": "@jupyter-widgets/controls",
          "model_name": "DescriptionStyleModel",
          "model_module_version": "1.5.0",
          "state": {
            "_model_module": "@jupyter-widgets/controls",
            "_model_module_version": "1.5.0",
            "_model_name": "DescriptionStyleModel",
            "_view_count": null,
            "_view_module": "@jupyter-widgets/base",
            "_view_module_version": "1.2.0",
            "_view_name": "StyleView",
            "description_width": ""
          }
        },
        "f6f602aee68e4c3499c631d5bcadbdfc": {
          "model_module": "@jupyter-widgets/controls",
          "model_name": "HBoxModel",
          "model_module_version": "1.5.0",
          "state": {
            "_dom_classes": [],
            "_model_module": "@jupyter-widgets/controls",
            "_model_module_version": "1.5.0",
            "_model_name": "HBoxModel",
            "_view_count": null,
            "_view_module": "@jupyter-widgets/controls",
            "_view_module_version": "1.5.0",
            "_view_name": "HBoxView",
            "box_style": "",
            "children": [
              "IPY_MODEL_db7eee6693e84fe5b30933c9b8772b00",
              "IPY_MODEL_abf9e83274214f2586122f3a56ed5565",
              "IPY_MODEL_90ae5382953d4425b6428cf10fc7415c"
            ],
            "layout": "IPY_MODEL_ba2514fac93d4baa964118589a12eeb2"
          }
        },
        "db7eee6693e84fe5b30933c9b8772b00": {
          "model_module": "@jupyter-widgets/controls",
          "model_name": "HTMLModel",
          "model_module_version": "1.5.0",
          "state": {
            "_dom_classes": [],
            "_model_module": "@jupyter-widgets/controls",
            "_model_module_version": "1.5.0",
            "_model_name": "HTMLModel",
            "_view_count": null,
            "_view_module": "@jupyter-widgets/controls",
            "_view_module_version": "1.5.0",
            "_view_name": "HTMLView",
            "description": "",
            "description_tooltip": null,
            "layout": "IPY_MODEL_5f22f5c2e7e84cbf8463bdb0d94560b6",
            "placeholder": "​",
            "style": "IPY_MODEL_0cb4b12dd0ea4308a805b462951462c1",
            "value": "pytorch_model.bin: 100%"
          }
        },
        "abf9e83274214f2586122f3a56ed5565": {
          "model_module": "@jupyter-widgets/controls",
          "model_name": "FloatProgressModel",
          "model_module_version": "1.5.0",
          "state": {
            "_dom_classes": [],
            "_model_module": "@jupyter-widgets/controls",
            "_model_module_version": "1.5.0",
            "_model_name": "FloatProgressModel",
            "_view_count": null,
            "_view_module": "@jupyter-widgets/controls",
            "_view_module_version": "1.5.0",
            "_view_name": "ProgressView",
            "bar_style": "success",
            "description": "",
            "description_tooltip": null,
            "layout": "IPY_MODEL_0231bb1455324a86a409995bec1fae58",
            "max": 355881581,
            "min": 0,
            "orientation": "horizontal",
            "style": "IPY_MODEL_d11820014ae5450e87011a9bd54f43ef",
            "value": 355881581
          }
        },
        "90ae5382953d4425b6428cf10fc7415c": {
          "model_module": "@jupyter-widgets/controls",
          "model_name": "HTMLModel",
          "model_module_version": "1.5.0",
          "state": {
            "_dom_classes": [],
            "_model_module": "@jupyter-widgets/controls",
            "_model_module_version": "1.5.0",
            "_model_name": "HTMLModel",
            "_view_count": null,
            "_view_module": "@jupyter-widgets/controls",
            "_view_module_version": "1.5.0",
            "_view_name": "HTMLView",
            "description": "",
            "description_tooltip": null,
            "layout": "IPY_MODEL_8e9ede5e5669493698f8a6ecab4ebaab",
            "placeholder": "​",
            "style": "IPY_MODEL_884e9d717c6a469ca73dc7033b08e1fc",
            "value": " 356M/356M [00:04&lt;00:00, 65.6MB/s]"
          }
        },
        "ba2514fac93d4baa964118589a12eeb2": {
          "model_module": "@jupyter-widgets/base",
          "model_name": "LayoutModel",
          "model_module_version": "1.2.0",
          "state": {
            "_model_module": "@jupyter-widgets/base",
            "_model_module_version": "1.2.0",
            "_model_name": "LayoutModel",
            "_view_count": null,
            "_view_module": "@jupyter-widgets/base",
            "_view_module_version": "1.2.0",
            "_view_name": "LayoutView",
            "align_content": null,
            "align_items": null,
            "align_self": null,
            "border": null,
            "bottom": null,
            "display": null,
            "flex": null,
            "flex_flow": null,
            "grid_area": null,
            "grid_auto_columns": null,
            "grid_auto_flow": null,
            "grid_auto_rows": null,
            "grid_column": null,
            "grid_gap": null,
            "grid_row": null,
            "grid_template_areas": null,
            "grid_template_columns": null,
            "grid_template_rows": null,
            "height": null,
            "justify_content": null,
            "justify_items": null,
            "left": null,
            "margin": null,
            "max_height": null,
            "max_width": null,
            "min_height": null,
            "min_width": null,
            "object_fit": null,
            "object_position": null,
            "order": null,
            "overflow": null,
            "overflow_x": null,
            "overflow_y": null,
            "padding": null,
            "right": null,
            "top": null,
            "visibility": null,
            "width": null
          }
        },
        "5f22f5c2e7e84cbf8463bdb0d94560b6": {
          "model_module": "@jupyter-widgets/base",
          "model_name": "LayoutModel",
          "model_module_version": "1.2.0",
          "state": {
            "_model_module": "@jupyter-widgets/base",
            "_model_module_version": "1.2.0",
            "_model_name": "LayoutModel",
            "_view_count": null,
            "_view_module": "@jupyter-widgets/base",
            "_view_module_version": "1.2.0",
            "_view_name": "LayoutView",
            "align_content": null,
            "align_items": null,
            "align_self": null,
            "border": null,
            "bottom": null,
            "display": null,
            "flex": null,
            "flex_flow": null,
            "grid_area": null,
            "grid_auto_columns": null,
            "grid_auto_flow": null,
            "grid_auto_rows": null,
            "grid_column": null,
            "grid_gap": null,
            "grid_row": null,
            "grid_template_areas": null,
            "grid_template_columns": null,
            "grid_template_rows": null,
            "height": null,
            "justify_content": null,
            "justify_items": null,
            "left": null,
            "margin": null,
            "max_height": null,
            "max_width": null,
            "min_height": null,
            "min_width": null,
            "object_fit": null,
            "object_position": null,
            "order": null,
            "overflow": null,
            "overflow_x": null,
            "overflow_y": null,
            "padding": null,
            "right": null,
            "top": null,
            "visibility": null,
            "width": null
          }
        },
        "0cb4b12dd0ea4308a805b462951462c1": {
          "model_module": "@jupyter-widgets/controls",
          "model_name": "DescriptionStyleModel",
          "model_module_version": "1.5.0",
          "state": {
            "_model_module": "@jupyter-widgets/controls",
            "_model_module_version": "1.5.0",
            "_model_name": "DescriptionStyleModel",
            "_view_count": null,
            "_view_module": "@jupyter-widgets/base",
            "_view_module_version": "1.2.0",
            "_view_name": "StyleView",
            "description_width": ""
          }
        },
        "0231bb1455324a86a409995bec1fae58": {
          "model_module": "@jupyter-widgets/base",
          "model_name": "LayoutModel",
          "model_module_version": "1.2.0",
          "state": {
            "_model_module": "@jupyter-widgets/base",
            "_model_module_version": "1.2.0",
            "_model_name": "LayoutModel",
            "_view_count": null,
            "_view_module": "@jupyter-widgets/base",
            "_view_module_version": "1.2.0",
            "_view_name": "LayoutView",
            "align_content": null,
            "align_items": null,
            "align_self": null,
            "border": null,
            "bottom": null,
            "display": null,
            "flex": null,
            "flex_flow": null,
            "grid_area": null,
            "grid_auto_columns": null,
            "grid_auto_flow": null,
            "grid_auto_rows": null,
            "grid_column": null,
            "grid_gap": null,
            "grid_row": null,
            "grid_template_areas": null,
            "grid_template_columns": null,
            "grid_template_rows": null,
            "height": null,
            "justify_content": null,
            "justify_items": null,
            "left": null,
            "margin": null,
            "max_height": null,
            "max_width": null,
            "min_height": null,
            "min_width": null,
            "object_fit": null,
            "object_position": null,
            "order": null,
            "overflow": null,
            "overflow_x": null,
            "overflow_y": null,
            "padding": null,
            "right": null,
            "top": null,
            "visibility": null,
            "width": null
          }
        },
        "d11820014ae5450e87011a9bd54f43ef": {
          "model_module": "@jupyter-widgets/controls",
          "model_name": "ProgressStyleModel",
          "model_module_version": "1.5.0",
          "state": {
            "_model_module": "@jupyter-widgets/controls",
            "_model_module_version": "1.5.0",
            "_model_name": "ProgressStyleModel",
            "_view_count": null,
            "_view_module": "@jupyter-widgets/base",
            "_view_module_version": "1.2.0",
            "_view_name": "StyleView",
            "bar_color": null,
            "description_width": ""
          }
        },
        "8e9ede5e5669493698f8a6ecab4ebaab": {
          "model_module": "@jupyter-widgets/base",
          "model_name": "LayoutModel",
          "model_module_version": "1.2.0",
          "state": {
            "_model_module": "@jupyter-widgets/base",
            "_model_module_version": "1.2.0",
            "_model_name": "LayoutModel",
            "_view_count": null,
            "_view_module": "@jupyter-widgets/base",
            "_view_module_version": "1.2.0",
            "_view_name": "LayoutView",
            "align_content": null,
            "align_items": null,
            "align_self": null,
            "border": null,
            "bottom": null,
            "display": null,
            "flex": null,
            "flex_flow": null,
            "grid_area": null,
            "grid_auto_columns": null,
            "grid_auto_flow": null,
            "grid_auto_rows": null,
            "grid_column": null,
            "grid_gap": null,
            "grid_row": null,
            "grid_template_areas": null,
            "grid_template_columns": null,
            "grid_template_rows": null,
            "height": null,
            "justify_content": null,
            "justify_items": null,
            "left": null,
            "margin": null,
            "max_height": null,
            "max_width": null,
            "min_height": null,
            "min_width": null,
            "object_fit": null,
            "object_position": null,
            "order": null,
            "overflow": null,
            "overflow_x": null,
            "overflow_y": null,
            "padding": null,
            "right": null,
            "top": null,
            "visibility": null,
            "width": null
          }
        },
        "884e9d717c6a469ca73dc7033b08e1fc": {
          "model_module": "@jupyter-widgets/controls",
          "model_name": "DescriptionStyleModel",
          "model_module_version": "1.5.0",
          "state": {
            "_model_module": "@jupyter-widgets/controls",
            "_model_module_version": "1.5.0",
            "_model_name": "DescriptionStyleModel",
            "_view_count": null,
            "_view_module": "@jupyter-widgets/base",
            "_view_module_version": "1.2.0",
            "_view_name": "StyleView",
            "description_width": ""
          }
        }
      }
    }
  },
  "nbformat": 4,
  "nbformat_minor": 0
}